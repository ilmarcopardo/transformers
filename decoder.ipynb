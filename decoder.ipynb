{
 "cells": [
  {
   "cell_type": "code",
   "execution_count": 1,
   "metadata": {},
   "outputs": [],
   "source": [
    "import torch"
   ]
  },
  {
   "cell_type": "code",
   "execution_count": 2,
   "metadata": {},
   "outputs": [],
   "source": [
    "class PositionalEncoder(torch.nn.Module):\n",
    "    def __init__(self, max_seq_len, d_model):\n",
    "        super().__init__()\n",
    "        self.max_seq_len = max_seq_len\n",
    "        self.d_model = d_model\n",
    "\n",
    "        self.pe = torch.zeros(self.max_seq_len, self.d_model)\n",
    "\n",
    "        # positional encoder \n",
    "        for j in range(max_seq_len):\n",
    "            for i in range(0, d_model):\n",
    "                if i%2 == 0:\n",
    "                    k = i//2\n",
    "                    wk = 1 / (10000**((2*k)/d_model))\n",
    "                    self.pe[j][i] = torch.sin(torch.tensor(wk*j))\n",
    "                else:\n",
    "                    self.pe[j][i] = torch.cos(torch.tensor(wk*j))\n",
    "\n",
    "        self.pe = self.pe.detach()\n",
    "\n",
    "    def forward(self, x):\n",
    "        if len(x.shape) == 2:\n",
    "            x = x.unsqueeze(0)\n",
    "\n",
    "        if x.shape[1]>self.max_seq_len:\n",
    "            raise Exception(\"Number of tokens exceeds max_seq_len\")\n",
    "        \n",
    "        if x.shape[2] != self.d_model:\n",
    "            raise Exception(\"Token dimension do not match model dimension\")\n",
    "        \n",
    "        if x.device != self.pe.device:\n",
    "            self.pe = self.pe.to(x.device)  # Move pe to the same device as x\n",
    "\n",
    "        x = x + self.pe[:x.shape[1], :]\n",
    "        return x"
   ]
  },
  {
   "cell_type": "code",
   "execution_count": 3,
   "metadata": {},
   "outputs": [],
   "source": [
    "class FeedForwardNN(torch.nn.Module):\n",
    "    def __init__(self, d_model, d_ff):\n",
    "        super().__init__()\n",
    "        self.d_model = d_model\n",
    "        self.d_ff = d_ff\n",
    "\n",
    "        self.ff1 = torch.nn.Linear(self.d_model, self.d_ff)\n",
    "        self.ff2 = torch.nn.Linear(self.d_ff, self.d_model)\n",
    "\n",
    "    def forward(self, x):\n",
    "        if len(x.shape) == 2:\n",
    "            x = x.unsqueeze(0)\n",
    "            print(\"Warning: batch size not present\")\n",
    "\n",
    "        if x.shape[2]!=self.d_model:\n",
    "            raise Exception(\"Token dimension do not match model dimension\")\n",
    "        \n",
    "        x = self.ff1(x)\n",
    "        x = self.ff2(x)\n",
    "\n",
    "        return x"
   ]
  },
  {
   "cell_type": "code",
   "execution_count": 4,
   "metadata": {},
   "outputs": [],
   "source": [
    "class LayerNorm(torch.nn.Module):\n",
    "    def __init__(self, d_model):\n",
    "        super().__init__()\n",
    "        self.d_model = d_model\n",
    "        self.layerNorm = torch.nn.LayerNorm(d_model)\n",
    "\n",
    "    def forward(self, x):\n",
    "        x = self.layerNorm(x)\n",
    "        return x"
   ]
  },
  {
   "cell_type": "code",
   "execution_count": 5,
   "metadata": {},
   "outputs": [],
   "source": [
    "class SelfAttentionHead(torch.nn.Module):\n",
    "    def __init__(self, d_model, d_k, max_seq_len):\n",
    "        super().__init__()\n",
    "        self.d_model = d_model\n",
    "        self.d_k = d_k\n",
    "        self.max_seq_len = max_seq_len\n",
    "        self.device = torch.device(\"cuda\" if torch.cuda.is_available() else \"cpu\")\n",
    "\n",
    "        self.W_q = torch.nn.Linear(in_features=d_model, out_features=d_k)\n",
    "        self.W_k = torch.nn.Linear(in_features=d_model, out_features=d_k)\n",
    "        self.W_v = torch.nn.Linear(in_features=d_model, out_features=d_k)\n",
    "\n",
    "        self.W_O = torch.nn.Linear(in_features = d_k, out_features=d_model)\n",
    "        \n",
    "    def forward(self, Q, K, V, mask = False):\n",
    "        if len(Q.shape)==2:\n",
    "            Q.unsqueeze(0)\n",
    "            print(\"Warning: batch size not present\")\n",
    "\n",
    "        if len(K.shape)==2:\n",
    "            K.unsqueeze(0)\n",
    "            print(\"Warning: batch size not present\")\n",
    "\n",
    "        if len(V.shape)==2:\n",
    "            V.unsqueeze(0)\n",
    "            print(\"Warning: batch size not present\")\n",
    "\n",
    "        if Q.shape[1] > self.max_seq_len or V.shape[1]> self.max_seq_len or K.shape[1]>self.max_seq_len:\n",
    "            raise Exception(\"Number of tokens exceed max sequence length\")\n",
    "\n",
    "        if Q.shape[2] != self.d_model or K.shape[2] != self.d_model or V.shape[2]!=self.d_model:\n",
    "            raise Exception(\"Tokens dimension do not match model dimension\")\n",
    "\n",
    "        Q = self.W_q(Q)\n",
    "        K = self.W_k(K)\n",
    "        V = self.W_v(V)\n",
    "\n",
    "        logits = (torch.matmul(Q, torch.transpose(K, 1, 2)) )/ (self.d_k ** 0.5)\n",
    "        if mask is True:\n",
    "            ones = torch.ones(Q.shape[0], Q.shape[1], Q.shape[1]).to(Q.device)\n",
    "            mask = torch.tril(ones)\n",
    "            logits = logits.masked_fill(mask == 0, -float('1e9'))\n",
    "\n",
    "        scores = torch.nn.functional.softmax(logits, dim = 1)\n",
    "        attention = torch.matmul(scores, V)\n",
    "\n",
    "        output = self.W_O(attention)\n",
    "        \n",
    "        return output\n",
    "\n",
    "class MultiHeadAttention(torch.nn.Module):\n",
    "    def __init__(self, num_heads, d_model, d_k, max_seq_len):\n",
    "        super().__init__()\n",
    "        self.num_heads = num_heads\n",
    "        self.d_model = d_model\n",
    "        self.d_k=d_k\n",
    "        self.max_seq_len = max_seq_len\n",
    "\n",
    "        self.heads = torch.nn.ModuleList([SelfAttentionHead(d_model=self.d_model, d_k=self.d_k, max_seq_len=self.max_seq_len) for _ in range(num_heads)])\n",
    "\n",
    "        self.W_O = torch.nn.Linear(num_heads*self.d_model, self.d_model)\n",
    "\n",
    "    def forward(self, Q, K, V, mask = False):\n",
    "        if len(Q.shape)==2:\n",
    "            Q.unsqueeze(0)\n",
    "            print(\"Warning: batch size not present\")\n",
    "\n",
    "        if len(K.shape)==2:\n",
    "            K.unsqueeze(0)\n",
    "            print(\"Warning: batch size not present\")\n",
    "\n",
    "        if len(V.shape)==2:\n",
    "            V.unsqueeze(0)\n",
    "            print(\"Warning: batch size not present\")\n",
    "\n",
    "        if Q.shape[1] > self.max_seq_len or V.shape[1]> self.max_seq_len or K.shape[1]>self.max_seq_len:\n",
    "            raise Exception(\"Number of tokens exceed max sequence length\")\n",
    "\n",
    "        if Q.shape[2] != self.d_model or K.shape[2] != self.d_model or V.shape[2]!=self.d_model:\n",
    "            raise Exception(\"Tokens dimension do not match model dimension\")\n",
    "\n",
    "        head_outputs = [head(Q, K, V, mask) for head in self.heads]\n",
    "        concatenated = torch.cat(head_outputs, dim=-1)\n",
    "        return self.W_O(concatenated)"
   ]
  },
  {
   "cell_type": "code",
   "execution_count": 6,
   "metadata": {},
   "outputs": [],
   "source": [
    "class DecoderBlock(torch.nn.Module):\n",
    "    def __init__(self, num_heads, d_model, d_k, d_ff, max_seq_len):\n",
    "        super().__init__()\n",
    "        self.num_heads = num_heads\n",
    "        self.d_model = d_model\n",
    "        self.d_k = d_k\n",
    "        self.d_ff = d_ff\n",
    "        self.max_seq_len = max_seq_len\n",
    "\n",
    "        self.multiHeadAttention = MultiHeadAttention(num_heads=self.num_heads, d_model=self.d_model, d_k=self.d_k, max_seq_len=self.max_seq_len)\n",
    "        self.layerNorm = LayerNorm(d_model=self.d_model)\n",
    "        self.ffnn = FeedForwardNN(d_model=self.d_model, d_ff=self.d_ff)\n",
    "\n",
    "    def forward(self, x):\n",
    "        if len(x.shape) == 2:\n",
    "            x = x.unsqueeze(0)\n",
    "            print(\"Warning: batch size not present\")\n",
    "\n",
    "        if x.shape[2]!=self.d_model:\n",
    "            raise Exception(\"Token dimension do not match model dimension\")\n",
    "        \n",
    "        y = self.layerNorm(x)\n",
    "        y = self.multiHeadAttention(y, y, y, True)\n",
    "\n",
    "        x = x+y\n",
    "        y = x\n",
    "\n",
    "        y = self.layerNorm(y)\n",
    "        y = self.ffnn(y)\n",
    "\n",
    "        x = x+y\n",
    "        return x"
   ]
  },
  {
   "cell_type": "code",
   "execution_count": null,
   "metadata": {},
   "outputs": [],
   "source": [
    "class DecoderWrapper(torch.nn.Module):\n",
    "    def __init__(self, num_heads, d_model, d_k, d_ff, max_seq_len, num_blocks, word_embedder = None):\n",
    "        super().__init__()\n",
    "        self.num_heads = num_heads\n",
    "        self.d_model = d_model\n",
    "        self.d_k = d_k\n",
    "        self.d_ff = d_ff\n",
    "        self.max_seq_len = max_seq_len\n",
    "        self.num_blocks = num_blocks\n",
    "        self.word_embedder = word_embedder\n",
    "\n",
    "        self.pe = PositionalEncoder(max_seq_len=self.max_seq_len, d_model=self.d_model)\n",
    "        self.decoders = torch.nn.ModuleList([DecoderBlock(d_model=self.d_model, d_k=self.d_k, max_seq_len=self.max_seq_len, d_ff=self.d_ff, num_heads=self.num_heads) for _ in range(num_blocks)])\n",
    "\n",
    "    def forward(self, x):\n",
    "        if len(x.shape) == 2:\n",
    "            x = x.unsqueeze(0)\n",
    "            print(\"Warning: batch size not present\")\n",
    "        \n",
    "        if x.shape[1] > self.max_seq_len:\n",
    "            print(x.shape)\n",
    "            raise Exception(\"Number of tokens exceeds max sequence length\")\n",
    "\n",
    "        if self.word_embedder is not None:\n",
    "            x = self.word_embedder(x)\n",
    "\n",
    "        if x.shape[2]!=self.d_model:\n",
    "            raise Exception(\"Token dimension do not match model dimension\")\n",
    "\n",
    "        x = self.pe(x)\n",
    "\n",
    "        for block in self.decoders:\n",
    "            x = block(x)\n",
    "        \n",
    "        return x"
   ]
  },
  {
   "cell_type": "code",
   "execution_count": 8,
   "metadata": {},
   "outputs": [
    {
     "name": "stdout",
     "output_type": "stream",
     "text": [
      "<class 'pandas.core.frame.DataFrame'>\n",
      "Index: 17420 entries, 2016-07-01 00:00:00 to 2018-06-26 19:00:00\n",
      "Data columns (total 7 columns):\n",
      " #   Column  Non-Null Count  Dtype  \n",
      "---  ------  --------------  -----  \n",
      " 0   HUFL    17420 non-null  float32\n",
      " 1   HULL    17420 non-null  float32\n",
      " 2   MUFL    17420 non-null  float32\n",
      " 3   MULL    17420 non-null  float32\n",
      " 4   LUFL    17420 non-null  float32\n",
      " 5   LULL    17420 non-null  float32\n",
      " 6   OT      17420 non-null  float32\n",
      "dtypes: float32(7)\n",
      "memory usage: 612.4+ KB\n"
     ]
    }
   ],
   "source": [
    "# ETTh1 benchmark\n",
    "\n",
    "import pandas as pd\n",
    "\n",
    "df = pd.read_csv(\"data/ETTh1.csv\", index_col = \"date\")\n",
    "df = df.astype('float32')\n",
    "df.info()"
   ]
  },
  {
   "cell_type": "code",
   "execution_count": 9,
   "metadata": {},
   "outputs": [],
   "source": [
    "import numpy as np\n",
    "class ETTh1Dataset(torch.utils.data.Dataset):\n",
    "    def __init__(self, data, lookback):\n",
    "        self.raw_data = data\n",
    "        self.lookback = lookback\n",
    "        self.X = []\n",
    "        self.Y = []\n",
    "\n",
    "        for i in range(len(self.raw_data)-lookback-1):\n",
    "            self.X.append(torch.tensor(df.iloc[i:i+self.lookback, :].values))\n",
    "            self.Y.append(torch.tensor(df.iloc[i+1:i+self.lookback+1, :].values))\n",
    "        \n",
    "    def __len__(self):\n",
    "        return len(self.X)\n",
    "\n",
    "    def __getitem__(self, idx):\n",
    "        return (self.X[idx], self.Y[idx])"
   ]
  },
  {
   "cell_type": "markdown",
   "metadata": {},
   "source": [
    "transformer model:\n",
    "NUM_HEADS = 3\n",
    "MAX_SEQ_LEN = 336\n",
    "D_MODEL = 7\n",
    "D_K = 32\n",
    "D_FF = 64\n",
    "NUM_BLOCKS = 2\n",
    "BATCH_SIZE = 16\n",
    "LOOKBACK = 336\n",
    "\n",
    "transformer model large:\n",
    "NUM_HEADS = 10\n",
    "MAX_SEQ_LEN = 500\n",
    "D_MODEL = 7\n",
    "D_K = 128\n",
    "D_FF = 256\n",
    "NUM_BLOCKS = 4\n",
    "BATCH_SIZE = 16\n",
    "LOOKBACK = 500"
   ]
  },
  {
   "cell_type": "code",
   "execution_count": 10,
   "metadata": {},
   "outputs": [],
   "source": [
    "from tqdm import tqdm\n",
    "\n",
    "DEVICE = torch.device(\"cuda\" if torch.cuda.is_available() else \"cpu\")\n",
    "\n",
    "NUM_HEADS = 10\n",
    "MAX_SEQ_LEN = 500\n",
    "D_MODEL = 7\n",
    "D_K = 128\n",
    "D_FF = 256\n",
    "NUM_BLOCKS = 4\n",
    "BATCH_SIZE = 16\n",
    "LOOKBACK = 500\n",
    "\n",
    "model = DecoderWrapper(num_heads=NUM_HEADS, num_blocks=NUM_BLOCKS, d_model=D_MODEL, d_k=D_K, d_ff=D_FF, max_seq_len=MAX_SEQ_LEN).to(DEVICE)\n",
    "model = torch.nn.DataParallel(model, device_ids=[0,1])\n",
    "optimizer = torch.optim.Adam(model.parameters(), lr = 0.001)\n",
    "loss_fn = torch.nn.MSELoss()\n",
    "\n",
    "dataset = ETTh1Dataset(df, LOOKBACK)\n",
    "\n",
    "train_size = int(0.8 * len(dataset))  # 80% for training\n",
    "test_size = len(dataset) - train_size  # Remaining 20% for testing\n",
    "\n",
    "# Define indices for train and test sets\n",
    "train_indices = list(range(0, train_size))  \n",
    "test_indices = list(range(train_size, len(dataset)))  \n",
    "\n",
    "# Create subsets\n",
    "train_dataset = torch.utils.data.Subset(dataset, train_indices)\n",
    "test_dataset = torch.utils.data.Subset(dataset, test_indices)\n",
    "\n",
    "train_loader = torch.utils.data.DataLoader(train_dataset, shuffle=True, batch_size = BATCH_SIZE)\n",
    "test_loader = torch.utils.data.DataLoader(test_dataset, batch_size=BATCH_SIZE)\n",
    "\n",
    "test_loss_history = []\n",
    "\n",
    "# early stopping\n",
    "PATIENCE = 4\n",
    "patience_counter = 0\n",
    "best_MSE = None\n",
    "N_EPOCHS = 100"
   ]
  },
  {
   "cell_type": "code",
   "execution_count": 11,
   "metadata": {},
   "outputs": [
    {
     "name": "stderr",
     "output_type": "stream",
     "text": [
      "  0%|          | 0/846 [00:00<?, ?it/s]"
     ]
    },
    {
     "name": "stderr",
     "output_type": "stream",
     "text": [
      "Loss: 1.2594: 100%|██████████| 846/846 [03:52<00:00,  3.64it/s]\n"
     ]
    },
    {
     "name": "stdout",
     "output_type": "stream",
     "text": [
      "Epoch 0: test MSE 0.5167\n"
     ]
    },
    {
     "name": "stderr",
     "output_type": "stream",
     "text": [
      "Loss: 0.9655: 100%|██████████| 846/846 [03:48<00:00,  3.69it/s]\n"
     ]
    },
    {
     "name": "stdout",
     "output_type": "stream",
     "text": [
      "Epoch 1: test MSE 0.5249\n"
     ]
    },
    {
     "name": "stderr",
     "output_type": "stream",
     "text": [
      "Loss: 0.7133: 100%|██████████| 846/846 [03:45<00:00,  3.75it/s]\n"
     ]
    },
    {
     "name": "stdout",
     "output_type": "stream",
     "text": [
      "Epoch 2: test MSE 0.5632\n"
     ]
    },
    {
     "name": "stderr",
     "output_type": "stream",
     "text": [
      "Loss: 0.7483: 100%|██████████| 846/846 [03:46<00:00,  3.73it/s]\n"
     ]
    },
    {
     "name": "stdout",
     "output_type": "stream",
     "text": [
      "Epoch 3: test MSE 0.4534\n"
     ]
    },
    {
     "name": "stderr",
     "output_type": "stream",
     "text": [
      "Loss: 0.5981: 100%|██████████| 846/846 [03:47<00:00,  3.72it/s]\n"
     ]
    },
    {
     "name": "stdout",
     "output_type": "stream",
     "text": [
      "Epoch 4: test MSE 0.4468\n"
     ]
    },
    {
     "name": "stderr",
     "output_type": "stream",
     "text": [
      "Loss: 0.5517: 100%|██████████| 846/846 [03:49<00:00,  3.69it/s]\n"
     ]
    },
    {
     "name": "stdout",
     "output_type": "stream",
     "text": [
      "Epoch 5: test MSE 0.4834\n"
     ]
    },
    {
     "name": "stderr",
     "output_type": "stream",
     "text": [
      "Loss: 0.5481: 100%|██████████| 846/846 [03:49<00:00,  3.69it/s]\n"
     ]
    },
    {
     "name": "stdout",
     "output_type": "stream",
     "text": [
      "Epoch 6: test MSE 0.4044\n"
     ]
    },
    {
     "name": "stderr",
     "output_type": "stream",
     "text": [
      "Loss: 0.4927: 100%|██████████| 846/846 [03:47<00:00,  3.71it/s]\n"
     ]
    },
    {
     "name": "stdout",
     "output_type": "stream",
     "text": [
      "Epoch 7: test MSE 0.4016\n"
     ]
    },
    {
     "name": "stderr",
     "output_type": "stream",
     "text": [
      "Loss: 0.5743: 100%|██████████| 846/846 [03:48<00:00,  3.71it/s]\n"
     ]
    },
    {
     "name": "stdout",
     "output_type": "stream",
     "text": [
      "Epoch 8: test MSE 0.4121\n"
     ]
    },
    {
     "name": "stderr",
     "output_type": "stream",
     "text": [
      "Loss: 0.4591: 100%|██████████| 846/846 [03:49<00:00,  3.69it/s]\n"
     ]
    },
    {
     "name": "stdout",
     "output_type": "stream",
     "text": [
      "Epoch 9: test MSE 0.4609\n"
     ]
    },
    {
     "name": "stderr",
     "output_type": "stream",
     "text": [
      "Loss: 0.5621: 100%|██████████| 846/846 [03:49<00:00,  3.69it/s]\n"
     ]
    },
    {
     "name": "stdout",
     "output_type": "stream",
     "text": [
      "Epoch 10: test MSE 0.4228\n"
     ]
    },
    {
     "name": "stderr",
     "output_type": "stream",
     "text": [
      "Loss: 0.4968: 100%|██████████| 846/846 [03:49<00:00,  3.69it/s]\n"
     ]
    },
    {
     "name": "stdout",
     "output_type": "stream",
     "text": [
      "Epoch 11: test MSE 0.3994\n"
     ]
    },
    {
     "name": "stderr",
     "output_type": "stream",
     "text": [
      "Loss: 0.4563: 100%|██████████| 846/846 [03:48<00:00,  3.70it/s]\n"
     ]
    },
    {
     "name": "stdout",
     "output_type": "stream",
     "text": [
      "Epoch 12: test MSE 0.3646\n"
     ]
    },
    {
     "name": "stderr",
     "output_type": "stream",
     "text": [
      "Loss: 0.3960: 100%|██████████| 846/846 [03:49<00:00,  3.68it/s]\n"
     ]
    },
    {
     "name": "stdout",
     "output_type": "stream",
     "text": [
      "Epoch 13: test MSE 0.3851\n"
     ]
    },
    {
     "name": "stderr",
     "output_type": "stream",
     "text": [
      "Loss: 0.3684: 100%|██████████| 846/846 [03:48<00:00,  3.70it/s]\n"
     ]
    },
    {
     "name": "stdout",
     "output_type": "stream",
     "text": [
      "Epoch 14: test MSE 0.3663\n"
     ]
    },
    {
     "name": "stderr",
     "output_type": "stream",
     "text": [
      "Loss: 0.3850: 100%|██████████| 846/846 [03:49<00:00,  3.68it/s]\n"
     ]
    },
    {
     "name": "stdout",
     "output_type": "stream",
     "text": [
      "Epoch 15: test MSE 0.3448\n"
     ]
    },
    {
     "name": "stderr",
     "output_type": "stream",
     "text": [
      "Loss: 0.3864: 100%|██████████| 846/846 [03:50<00:00,  3.68it/s]\n"
     ]
    },
    {
     "name": "stdout",
     "output_type": "stream",
     "text": [
      "Epoch 16: test MSE 0.3836\n"
     ]
    },
    {
     "name": "stderr",
     "output_type": "stream",
     "text": [
      "Loss: 0.3833: 100%|██████████| 846/846 [03:48<00:00,  3.70it/s]\n"
     ]
    },
    {
     "name": "stdout",
     "output_type": "stream",
     "text": [
      "Epoch 17: test MSE 0.3800\n"
     ]
    },
    {
     "name": "stderr",
     "output_type": "stream",
     "text": [
      "Loss: 0.3703: 100%|██████████| 846/846 [03:48<00:00,  3.70it/s]\n"
     ]
    },
    {
     "name": "stdout",
     "output_type": "stream",
     "text": [
      "Epoch 18: test MSE 0.4752\n"
     ]
    },
    {
     "name": "stderr",
     "output_type": "stream",
     "text": [
      "Loss: 0.4077: 100%|██████████| 846/846 [03:49<00:00,  3.69it/s]\n"
     ]
    }
   ],
   "source": [
    "torch.cuda.empty_cache()\n",
    "\n",
    "for epoch in range(N_EPOCHS):\n",
    "    bar = tqdm(train_loader)\n",
    "    model.train()\n",
    "    for X_batch, y_batch in bar:\n",
    "        # X_batch = [batch, num_tokens, dim_tokens]\n",
    "        y_pred = model(X_batch.to(DEVICE))\n",
    "        y_pred = y_pred.squeeze()\n",
    "        loss = loss_fn(y_pred, y_batch.to(DEVICE))\n",
    "\n",
    "        bar.set_description(f\"Loss: {loss.item():.4f}\")\n",
    "\n",
    "        optimizer.zero_grad()\n",
    "        loss.backward()\n",
    "        optimizer.step()    \n",
    "\n",
    "    total_loss = 0.0\n",
    "    num_samples = 0\n",
    "\n",
    "    model.eval()\n",
    "    with torch.no_grad():\n",
    "        for X_test_batch, y_test_batch in test_loader:\n",
    "            y_pred = model(X_test_batch.to(DEVICE))\n",
    "            y_pred = y_pred.squeeze()\n",
    "            # test mse only on the feature we're interested in\n",
    "            batch_test_loss = loss_fn(y_pred[:,:,6], y_test_batch[:,:,6].to(DEVICE))\n",
    "            total_loss += batch_test_loss.item() * X_test_batch.size(0)\n",
    "            num_samples += X_test_batch.size(0)\n",
    "        test_mse = total_loss / num_samples\n",
    "        test_loss_history.append(test_mse)\n",
    "\n",
    "        # early stop condition\n",
    "        if best_MSE is None or test_mse < best_MSE:\n",
    "            best_MSE = test_mse\n",
    "            patience_counter = PATIENCE\n",
    "            torch.save(model.state_dict(), \"./models/transformer_model_large.pt\")\n",
    "        else:\n",
    "            patience_counter -= 1 \n",
    "            if patience_counter == 0:\n",
    "                break\n",
    "    print(\"Epoch %d: test MSE %.4f\" % (epoch, test_mse))\n"
   ]
  },
  {
   "cell_type": "code",
   "execution_count": null,
   "metadata": {},
   "outputs": [],
   "source": [
    "# train trial 2 facendolo autoregressivo\n"
   ]
  },
  {
   "cell_type": "code",
   "execution_count": 18,
   "metadata": {},
   "outputs": [
    {
     "data": {
      "image/png": "[encoded data removed]",
      "text/plain": [
       "<Figure size 640x480 with 1 Axes>"
      ]
     },
     "metadata": {},
     "output_type": "display_data"
    }
   ],
   "source": [
    "from matplotlib import pyplot as plt\n",
    "\n",
    "plt.plot(range(0, len(test_loss_history)), test_loss_history, label=\"Test loss history\")\n",
    "plt.legend()\n",
    "plt.show()"
   ]
  },
  {
   "cell_type": "code",
   "execution_count": 19,
   "metadata": {},
   "outputs": [
    {
     "data": {
      "text/plain": [
       "<All keys matched successfully>"
      ]
     },
     "execution_count": 19,
     "metadata": {},
     "output_type": "execute_result"
    }
   ],
   "source": [
    "# model in memory \n",
    "\n",
    "torch.cuda.empty_cache()\n",
    "model = DecoderWrapper(num_heads=NUM_HEADS, num_blocks=NUM_BLOCKS, d_model=D_MODEL, d_k=D_K, d_ff=D_FF, max_seq_len=MAX_SEQ_LEN).to(DEVICE)\n",
    "model = torch.nn.DataParallel(model, device_ids=[0,1])\n",
    "model.load_state_dict(torch.load(\"./models/transformer_model_large.pt\", weights_only=True))"
   ]
  },
  {
   "cell_type": "code",
   "execution_count": 20,
   "metadata": {},
   "outputs": [],
   "source": [
    "# NOT autoregressive\n",
    "\n",
    "y_pred_list = []\n",
    "\n",
    "model.eval()\n",
    "with torch.no_grad():\n",
    "    for X_test_batch, y_test in test_loader:\n",
    "        y_pred = model(X_test_batch.to(DEVICE))\n",
    "        y_pred = y_pred.squeeze()\n",
    "        y_pred_list.append(y_pred[:,LOOKBACK-1,6].cpu())\n",
    "\n",
    "y_pred_list = torch.cat(y_pred_list, dim=0)\n",
    "bootstrap = LOOKBACK+1\n",
    "y_pred_list = torch.cat((torch.zeros(bootstrap), y_pred_list), dim=0) # bootstrap di 337 elementi"
   ]
  },
  {
   "cell_type": "code",
   "execution_count": 21,
   "metadata": {},
   "outputs": [
    {
     "data": {
      "image/png": "[encoded data removed]",
      "text/plain": [
       "<Figure size 640x480 with 1 Axes>"
      ]
     },
     "metadata": {},
     "output_type": "display_data"
    }
   ],
   "source": [
    "from matplotlib import pyplot as plt\n",
    "plt_interval = 300\n",
    "plt.plot(df.iloc[train_size + bootstrap:train_size+bootstrap + plt_interval, 6].to_numpy(), label=\"true data\")\n",
    "plt.plot(y_pred_list.numpy()[bootstrap:bootstrap+plt_interval], label=\"predicted data\")\n",
    "plt.legend()\n",
    "plt.show()"
   ]
  },
  {
   "cell_type": "code",
   "execution_count": 22,
   "metadata": {},
   "outputs": [],
   "source": [
    "# AUTOREGRESSIVE solo sull'uscita da predirre (scenario nostro)\n",
    "import torch\n",
    "\n",
    "X_test, _ = test_dataset[0]\n",
    "autoregressive_pred = X_test[:,6].clone()\n",
    "\n",
    "y_pred_list=[]\n",
    "\n",
    "model.eval()\n",
    "with torch.no_grad():\n",
    "    for i, (X_test, y_test) in enumerate(test_dataset):\n",
    "        X_copy = X_test.clone()\n",
    "        X_copy[:,6] = autoregressive_pred\n",
    "\n",
    "        y_pred = model(X_copy.unsqueeze(0).to(DEVICE))\n",
    "        y_pred = y_pred.squeeze()\n",
    "        \n",
    "        pred_val = y_pred[LOOKBACK-1,6].unsqueeze(0).cpu()\n",
    "        autoregressive_pred = torch.cat((autoregressive_pred[1:], pred_val), dim=0)\n",
    "        y_pred_list.append(pred_val.cpu())\n",
    "\n",
    "y_pred_list = torch.cat(y_pred_list, dim=0)\n",
    "bootstrap = LOOKBACK+1\n",
    "y_pred_list = torch.cat((torch.zeros(bootstrap), y_pred_list), dim=0) # bootstrap di 337 elementi"
   ]
  },
  {
   "cell_type": "code",
   "execution_count": 24,
   "metadata": {},
   "outputs": [
    {
     "data": {
      "image/png": "[encoded data removed]",
      "text/plain": [
       "<Figure size 640x480 with 1 Axes>"
      ]
     },
     "metadata": {},
     "output_type": "display_data"
    }
   ],
   "source": [
    "from matplotlib import pyplot as plt\n",
    "plt_interval = 20\n",
    "bootstrap = LOOKBACK+1\n",
    "\n",
    "plt.plot(df.iloc[train_size + bootstrap : train_size+bootstrap+plt_interval , 6].to_numpy(), label=\"true data\")\n",
    "plt.plot(y_pred_list[bootstrap:bootstrap+plt_interval], label=\"predicted data\")\n",
    "plt.legend()\n",
    "plt.show()"
   ]
  }
 ],
 "metadata": {
  "kernelspec": {
   "display_name": "base",
   "language": "python",
   "name": "python3"
  },
  "language_info": {
   "codemirror_mode": {
    "name": "ipython",
    "version": 3
   },
   "file_extension": ".py",
   "mimetype": "text/x-python",
   "name": "python",
   "nbconvert_exporter": "python",
   "pygments_lexer": "ipython3",
   "version": "3.12.7"
  }
 },
 "nbformat": 4,
 "nbformat_minor": 2
}
