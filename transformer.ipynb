{
 "cells": [
  {
   "cell_type": "code",
   "execution_count": 25,
   "metadata": {},
   "outputs": [],
   "source": [
    "import torch"
   ]
  },
  {
   "cell_type": "code",
   "execution_count": 26,
   "metadata": {},
   "outputs": [],
   "source": [
    "class PositionalEncoder(torch.nn.Module):\n",
    "    def __init__(self, max_seq_len, d_model):\n",
    "        super().__init__()\n",
    "        self.max_seq_len = max_seq_len\n",
    "        self.d_model = d_model\n",
    "\n",
    "        self.pe = torch.zeros(self.max_seq_len, self.d_model)\n",
    "\n",
    "        # positional encoder \n",
    "        for j in range(max_seq_len):\n",
    "            for i in range(0, d_model):\n",
    "                if i%2 == 0:\n",
    "                    k = i//2\n",
    "                    wk = 1 / (10000**((2*k)/d_model))\n",
    "                    self.pe[j][i] = torch.sin(torch.tensor(wk*j))\n",
    "                else:\n",
    "                    self.pe[j][i] = torch.cos(torch.tensor(wk*j))\n",
    "\n",
    "        self.pe = self.pe.detach()\n",
    "\n",
    "    def forward(self, x):\n",
    "        if len(x.shape) == 2:\n",
    "            x = x.unsqueeze(0)\n",
    "\n",
    "        if x.shape[1]>self.max_seq_len:\n",
    "            raise Exception(\"Number of tokens exceeds max_seq_len\")\n",
    "        \n",
    "        if x.shape[2] != self.d_model:\n",
    "            raise Exception(\"Token dimension do not match model dimension\")\n",
    "\n",
    "        x = x + self.pe\n",
    "        return x"
   ]
  },
  {
   "cell_type": "code",
   "execution_count": 27,
   "metadata": {},
   "outputs": [],
   "source": [
    "class FeedForwardNN(torch.nn.Module):\n",
    "    def __init__(self, d_model, d_ff):\n",
    "        self.d_model = d_model\n",
    "        self.d_ff = d_ff\n",
    "\n",
    "        self.ff1 = torch.nn.Linear(self.d_model, self.d_ff)\n",
    "        self.ff2 = torch.nn.Linear(self.d_ff, self.d_model)\n",
    "\n",
    "    def forward(self, x):\n",
    "        if len(x.shape) == 2:\n",
    "            x = x.unsqueeze(0)\n",
    "            print(\"Warning: batch size not present\")\n",
    "\n",
    "        if x.shape[2]!=self.d_model:\n",
    "            raise Exception(\"Token dimension do not match model dimension\")\n",
    "        \n",
    "        x = self.ff1(x)\n",
    "        x = self.ff2(x)\n",
    "\n",
    "        return x"
   ]
  },
  {
   "cell_type": "code",
   "execution_count": 28,
   "metadata": {},
   "outputs": [],
   "source": [
    "class LayerNorm(torch.nn.Module):\n",
    "    def __init__(self, d_model):\n",
    "        self.d_model = d_model\n",
    "        self.layerNorm = torch.nn.LayerNorm(d_model)\n",
    "\n",
    "    def forward(self, x):\n",
    "        x = self.layerNorm(x)\n",
    "        return x"
   ]
  },
  {
   "cell_type": "code",
   "execution_count": 34,
   "metadata": {},
   "outputs": [],
   "source": [
    "class SelfAttentionHead(torch.nn.Module):\n",
    "    def __init__(self, d_model, d_k, max_seq_len):\n",
    "        super().__init__()\n",
    "        self.d_model = d_model\n",
    "        self.d_k = d_k\n",
    "        self.max_seq_len = max_seq_len\n",
    "\n",
    "        self.W_q = torch.nn.Linear(in_features=d_model, out_features=d_k)\n",
    "        self.W_k = torch.nn.Linear(in_features=d_model, out_features=d_k)\n",
    "        self.W_v = torch.nn.Linear(in_features=d_model, out_features=d_k)\n",
    "\n",
    "        self.W_O = torch.nn.Linear(in_features = d_k, out_features=d_model)\n",
    "        \n",
    "    def forward(self, Q, K, V, mask = False):\n",
    "        if len(Q.shape)==2:\n",
    "            Q.unsqueeze(0)\n",
    "            print(\"Warning: batch size not present\")\n",
    "\n",
    "        if len(K.shape)==2:\n",
    "            K.unsqueeze(0)\n",
    "            print(\"Warning: batch size not present\")\n",
    "\n",
    "        if len(V.shape)==2:\n",
    "            V.unsqueeze(0)\n",
    "            print(\"Warning: batch size not present\")\n",
    "\n",
    "        if Q.shape[1] > self.max_seq_len or V.shape[1]> self.max_seq_len or K.shape[1]>self.max_seq_len:\n",
    "            raise Exception(\"Number of tokens exceed max sequence length\")\n",
    "\n",
    "        if Q.shape[2] != self.d_model or K.shape[2] != self.d_model or V.shape[2]!=self.d_model:\n",
    "            raise Exception(\"Tokens dimension do not match model dimension\")\n",
    "\n",
    "        Q = self.W_q(Q)\n",
    "        K = self.W_k(K)\n",
    "        V = self.W_v(V)\n",
    "\n",
    "        logits = (torch.matmul(Q, torch.transpose(K, 1, 2)) )/ (self.d_k ** 0.5)\n",
    "        if mask is True:\n",
    "            ones = torch.ones(Q.shape[0], Q.shape[1], Q.shape[1])\n",
    "            mask = torch.tril(ones)\n",
    "            logits = logits.masked_fill(mask == 0, -float('1e9'))\n",
    "\n",
    "        scores = torch.nn.functional.softmax(logits, dim = 1)\n",
    "        attention = torch.matmul(scores, V)\n",
    "\n",
    "        output = self.W_O(attention)\n",
    "        \n",
    "        return output\n",
    "\n",
    "class MultiHeadAttention(torch.nn.Module):\n",
    "    def __init__(self, num_heads, d_model, d_k, max_seq_len):\n",
    "        super().__init__()\n",
    "        self.num_heads = num_heads\n",
    "        self.d_model = d_model\n",
    "        self.d_k=d_k\n",
    "        self.max_seq_len = max_seq_len\n",
    "\n",
    "        self.heads = torch.nn.ModuleList([SelfAttentionHead(d_model=self.d_model, d_k=self.d_k, max_seq_len=self.max_seq_len) for _ in range(num_heads)])\n",
    "\n",
    "        self.W_O = torch.nn.Linear(num_heads*self.d_model, self.d_model)\n",
    "\n",
    "    def forward(self, Q, K, V, mask = False):\n",
    "        if len(Q.shape)==2:\n",
    "            Q.unsqueeze(0)\n",
    "            print(\"Warning: batch size not present\")\n",
    "\n",
    "        if len(K.shape)==2:\n",
    "            K.unsqueeze(0)\n",
    "            print(\"Warning: batch size not present\")\n",
    "\n",
    "        if len(V.shape)==2:\n",
    "            V.unsqueeze(0)\n",
    "            print(\"Warning: batch size not present\")\n",
    "\n",
    "        if Q.shape[1] > self.max_seq_len or V.shape[1]> self.max_seq_len or K.shape[1]>self.max_seq_len:\n",
    "            raise Exception(\"Number of tokens exceed max sequence length\")\n",
    "\n",
    "        if Q.shape[2] != self.d_model or K.shape[2] != self.d_model or V.shape[2]!=self.d_model:\n",
    "            raise Exception(\"Tokens dimension do not match model dimension\")\n",
    "\n",
    "        head_outputs = [head(Q, K, V, mask) for head in self.heads]\n",
    "        concatenated = torch.cat(head_outputs, dim=-1)\n",
    "        return self.W_O(concatenated)"
   ]
  },
  {
   "cell_type": "code",
   "execution_count": 30,
   "metadata": {},
   "outputs": [],
   "source": [
    "class DecoderBlock(torch.nn.Module):\n",
    "    def __init__(self, num_heads, d_model, d_k, d_ff, max_seq_len):\n",
    "        self.num_heads = num_heads\n",
    "        self.d_model = d_model\n",
    "        self.d_k = d_k\n",
    "        self.d_ff = d_ff\n",
    "        self.max_seq_len = max_seq_len\n",
    "\n",
    "        self.multiHeadAttention = MultiHeadAttention(num_heads=self.num_heads, d_model=self.d_model, d_k=self.d_k, max_seq_len=self.max_seq_len)\n",
    "        self.layerNorm = LayerNorm(d_model=self.d_model)\n",
    "        self.ffnn = FeedForwardNN(d_model=self.d_model, d_ff=self.d_ff)\n",
    "\n",
    "    def forward(self, x):\n",
    "        if len(x.shape) == 2:\n",
    "            x = x.unsqueeze(0)\n",
    "            print(\"Warning: batch size not present\")\n",
    "\n",
    "        if x.shape[2]!=self.d_model:\n",
    "            raise Exception(\"Token dimension do not match model dimension\")\n",
    "        \n",
    "        y = self.layerNorm(x)\n",
    "        y = self.multiHeadAttention(y)\n",
    "\n",
    "        x = x+y\n",
    "        y = x\n",
    "\n",
    "        y = self.layerNorm(y)\n",
    "        y = self.ffnn(y)\n",
    "\n",
    "        x = x+y\n",
    "        return x"
   ]
  },
  {
   "cell_type": "code",
   "execution_count": 37,
   "metadata": {},
   "outputs": [
    {
     "name": "stdout",
     "output_type": "stream",
     "text": [
      "tensor([[[ 0.3365, -0.1356,  0.1461, -0.4321],\n",
      "         [ 0.1768,  0.0380,  0.2529, -0.6829],\n",
      "         [ 0.0842,  0.5899,  1.2571, -2.5007]],\n",
      "\n",
      "        [[ 0.3618, -0.0701,  0.2028, -0.5407],\n",
      "         [ 0.3962,  0.0548,  0.4298, -0.8842],\n",
      "         [-0.0091,  0.8302,  1.1952, -2.2897]]], grad_fn=<ViewBackward0>)\n",
      "\n",
      "\n",
      "tensor([[[-0.5321,  0.2413, -0.3688,  0.0663],\n",
      "         [-0.3270,  0.1900, -0.4453,  0.1423],\n",
      "         [-0.1919,  0.1343, -0.3536,  0.0599]],\n",
      "\n",
      "        [[-0.5773,  0.2365, -0.3365,  0.0230],\n",
      "         [-0.7091,  0.2350, -0.2842, -0.0582],\n",
      "         [-0.7269,  0.1400, -0.2344, -0.1868]]], grad_fn=<ViewBackward0>)\n"
     ]
    }
   ],
   "source": [
    "# shape of input tensor: [batch_size, seq_len, d_model]\n",
    "# seq_len is the number of tokens in each sequence\n",
    "# d_model is the dimensionality of the embedding\n",
    "x = torch.randn(2, 3, 4)\n",
    "heads = MultiHeadAttention(num_heads=1, d_model=4, d_k=5, max_seq_len=10)\n",
    "head = SelfAttentionHead(d_model=4, d_k=5, max_seq_len=10)\n",
    "print(head(x, x, x, True))\n",
    "print(\"\\n\")\n",
    "print(heads(x, x, x, True))"
   ]
  },
  {
   "cell_type": "code",
   "execution_count": null,
   "metadata": {},
   "outputs": [
    {
     "data": {
      "text/plain": [
       "tensor([[[1.0000, 2.0000, 1.0000, 2.0000, 1.0000, 2.0000],\n",
       "         [1.8415, 1.5403, 1.0464, 1.9989, 1.0022, 2.0000],\n",
       "         [1.9093, 0.5839, 1.0927, 1.9957, 1.0043, 2.0000]],\n",
       "\n",
       "        [[1.0000, 2.0000, 1.0000, 2.0000, 1.0000, 2.0000],\n",
       "         [1.8415, 1.5403, 1.0464, 1.9989, 1.0022, 2.0000],\n",
       "         [1.9093, 0.5839, 1.0927, 1.9957, 1.0043, 2.0000]],\n",
       "\n",
       "        [[1.0000, 2.0000, 1.0000, 2.0000, 1.0000, 2.0000],\n",
       "         [1.8415, 1.5403, 1.0464, 1.9989, 1.0022, 2.0000],\n",
       "         [1.9093, 0.5839, 1.0927, 1.9957, 1.0043, 2.0000]],\n",
       "\n",
       "        [[1.0000, 2.0000, 1.0000, 2.0000, 1.0000, 2.0000],\n",
       "         [1.8415, 1.5403, 1.0464, 1.9989, 1.0022, 2.0000],\n",
       "         [1.9093, 0.5839, 1.0927, 1.9957, 1.0043, 2.0000]]])"
      ]
     },
     "execution_count": 2,
     "metadata": {},
     "output_type": "execute_result"
    }
   ],
   "source": [
    "import torch\n",
    "\n",
    "\n",
    "max_seq_length = 3\n",
    "d_model = 6\n",
    "\n",
    "my_tensor = torch.ones(4, 3, 6)\n",
    "\n",
    "pe = torch.zeros(max_seq_length, d_model)\n",
    "\n",
    "for j in range(max_seq_length):\n",
    "    for i in range(0, d_model):\n",
    "        if i%2 == 0:\n",
    "            k = i//2\n",
    "            wk = 1 / (10000**((2*k)/d_model))\n",
    "            pe[j][i] = torch.sin(torch.tensor(wk*j))\n",
    "        else:\n",
    "            pe[j][i] = torch.cos(torch.tensor(wk*j))\n",
    "pe\n"
   ]
  },
  {
   "cell_type": "code",
   "execution_count": null,
   "metadata": {},
   "outputs": [],
   "source": [
    "# NLP Example\n",
    "batch, sentence_length, embedding_dim = 20, 5, 10\n",
    "embedding = torch.randn(batch, sentence_length, embedding_dim)\n",
    "layer_norm = torch.nn.LayerNorm(embedding_dim)\n",
    "# Activate module\n",
    "layer_norm(embedding)\n"
   ]
  },
  {
   "cell_type": "code",
   "execution_count": null,
   "metadata": {},
   "outputs": [
    {
     "name": "stdout",
     "output_type": "stream",
     "text": [
      "tensor([[[1., 0.],\n",
      "         [1., 1.]],\n",
      "\n",
      "        [[1., 0.],\n",
      "         [1., 1.]]])\n"
     ]
    },
    {
     "data": {
      "text/plain": [
       "tensor([[[0.5000, 0.2689],\n",
       "         [0.5000, 0.7311]],\n",
       "\n",
       "        [[0.5000, 0.2689],\n",
       "         [0.5000, 0.7311]]])"
      ]
     },
     "execution_count": 23,
     "metadata": {},
     "output_type": "execute_result"
    }
   ],
   "source": [
    "x = torch.rand(2,2,3)\n",
    "\n",
    "ones = torch.ones(x.shape[0], x.shape[1], x.shape[1])\n",
    "mask = torch.tril(ones)\n",
    "print(mask)\n",
    "scores = torch.nn.functional.softmax(mask, dim = 1)\n",
    "scores"
   ]
  },
  {
   "cell_type": "code",
   "execution_count": null,
   "metadata": {},
   "outputs": [],
   "source": []
  },
  {
   "cell_type": "code",
   "execution_count": null,
   "metadata": {},
   "outputs": [],
   "source": []
  }
 ],
 "metadata": {
  "kernelspec": {
   "display_name": "base",
   "language": "python",
   "name": "python3"
  },
  "language_info": {
   "codemirror_mode": {
    "name": "ipython",
    "version": 3
   },
   "file_extension": ".py",
   "mimetype": "text/x-python",
   "name": "python",
   "nbconvert_exporter": "python",
   "pygments_lexer": "ipython3",
   "version": "3.12.7"
  }
 },
 "nbformat": 4,
 "nbformat_minor": 2
}
